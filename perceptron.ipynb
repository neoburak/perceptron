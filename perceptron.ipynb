{
  "cells": [
    {
      "cell_type": "code",
      "execution_count": 4,
      "metadata": {
        "id": "tKBOHUEvP3cb"
      },
      "outputs": [],
      "source": [
        "import numpy as np\n",
        "import pandas as pd\n",
        "from sklearn import datasets\n",
        "from sklearn.model_selection import train_test_split\n"
      ]
    },
    {
      "cell_type": "code",
      "execution_count": 32,
      "metadata": {
        "colab": {
          "base_uri": "https://localhost:8080/"
        },
        "id": "xHbBX8al0VCV",
        "outputId": "56f1c1a0-dfc5-40d5-cd1d-4296afae466a"
      },
      "outputs": [
        {
          "output_type": "stream",
          "name": "stdout",
          "text": [
            "(100, 2)\n"
          ]
        }
      ],
      "source": [
        "from sklearn import datasets\n",
        "\n",
        "iris = datasets.load_iris()\n",
        "X = iris[\"data\"][:, (2, 3)]  # petal length, petal width\n",
        "y = iris[\"target\"]\n",
        "\n",
        "setosa_or_versicolor = (y == 0) | (y == 1)\n",
        "X = X[setosa_or_versicolor]\n",
        "y = y[setosa_or_versicolor]\n",
        "\n",
        "y[y == 0] = -1\n",
        "print(X.shape)"
      ]
    },
    {
      "cell_type": "code",
      "execution_count": 33,
      "metadata": {
        "id": "JgUVcDd_0VCY"
      },
      "outputs": [],
      "source": [
        "X_train, X_test, y_train, y_test = train_test_split(X,y,train_size=0.7)\n"
      ]
    },
    {
      "cell_type": "code",
      "execution_count": 45,
      "metadata": {
        "id": "ScWwMk3LQB6_"
      },
      "outputs": [],
      "source": [
        "def perceptron(x,y, max_epochs = 100):\n",
        "    n = len(y) \n",
        "    d = x.shape[1] \n",
        "    w = np.zeros(d) \n",
        "    for epoch in range(max_epochs):\n",
        "        rev = 0 \n",
        "        for i in np.random.permutation(n):\n",
        "            if y[i]*w.dot(x[i]) <= 0:\n",
        "                rev += 1\n",
        "                w = w + y[i]*x[i]\n",
        "        if rev == 0:\n",
        "            print({} sayılı epoch'ta tamamlandı: no weight revisions in epoch\".format(epoch+1))\n",
        "            return w\n",
        "    print(\"{} kez epoch döndü: maximum number of epochs reached\".format(max_epochs))\n",
        "    return w\n",
        "    "
      ]
    },
    {
      "cell_type": "code",
      "execution_count": 35,
      "metadata": {
        "id": "n3520J7K0VCZ"
      },
      "outputs": [],
      "source": [
        "def predict(X,w):\n",
        "    return np.sign(np.dot(X, w))"
      ]
    },
    {
      "cell_type": "code",
      "source": [
        "w = perceptron(X,y,1000)\n",
        "print(w)"
      ],
      "metadata": {
        "colab": {
          "base_uri": "https://localhost:8080/"
        },
        "id": "oxJLSJVP0Zca",
        "outputId": "180c26f3-de5a-49cb-aa6b-5105d7249dcb"
      },
      "execution_count": 37,
      "outputs": [
        {
          "output_type": "stream",
          "name": "stdout",
          "text": [
            "Complete in 1000 epochs: maximum number of epochs reached\n",
            "[-9.4 42.5]\n"
          ]
        }
      ]
    },
    {
      "cell_type": "code",
      "execution_count": 46,
      "metadata": {
        "id": "YfjomTz7aLAg"
      },
      "outputs": [],
      "source": [
        "def loss(x,y,w):\n",
        "    h = np.sign(x.dot(w))\n",
        "    return np.mean(h == y)"
      ]
    },
    {
      "cell_type": "code",
      "source": [
        "loss(X,y,w)"
      ],
      "metadata": {
        "colab": {
          "base_uri": "https://localhost:8080/"
        },
        "id": "xcMUcD0sT7jM",
        "outputId": "699b0afd-aa31-4695-a56f-65074d852582"
      },
      "execution_count": 47,
      "outputs": [
        {
          "output_type": "execute_result",
          "data": {
            "text/plain": [
              "0.93"
            ]
          },
          "metadata": {},
          "execution_count": 47
        }
      ]
    }
  ],
  "metadata": {
    "colab": {
      "collapsed_sections": [],
      "name": "perceptron.ipynb",
      "provenance": []
    },
    "kernelspec": {
      "display_name": "Python 3 (ipykernel)",
      "language": "python",
      "name": "python3"
    },
    "language_info": {
      "codemirror_mode": {
        "name": "ipython",
        "version": 3
      },
      "file_extension": ".py",
      "mimetype": "text/x-python",
      "name": "python",
      "nbconvert_exporter": "python",
      "pygments_lexer": "ipython3",
      "version": "3.9.7"
    }
  },
  "nbformat": 4,
  "nbformat_minor": 0
}